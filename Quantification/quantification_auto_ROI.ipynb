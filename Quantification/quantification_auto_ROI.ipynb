{
 "cells": [
  {
   "cell_type": "code",
   "execution_count": null,
   "metadata": {},
   "outputs": [],
   "source": [
    "import os\n",
    "import json\n",
    "import shutil\n",
    "import pandas as pd\n",
    "from quantification_functions import postprocess_LSA_seg, get_all_LSA_metrics, get_ROI_location_from_mask, crop_TOF_and_seg"
   ]
  },
  {
   "cell_type": "code",
   "execution_count": null,
   "metadata": {},
   "outputs": [],
   "source": [
    "############# Input #############\n",
    "ID=\"001\"    # ID number\n",
    "root_dir = \"/path/to/LUMEN/Quantification\"\n",
    "data_dir = os.path.join(\"/path/to/data/folder\", ID)\n",
    "original_LSA_PA_mask_path = os.path.join(data_dir, f\"{ID}_upsampled_TOF_LSA_PA_mask.nii.gz\")\n",
    "TOF_path = os.path.join(data_dir, f\"{ID}_upsampled_TOF.nii.gz\") # ensure that this is the isotropically upsampled TOF\n",
    "seg_path = os.path.join(data_dir, f\"{ID}_seg.nii.gz\")           # segmentation mask from DS6\n",
    "slicer_path = \"/path/to/slicer.exe\"  # TODO: replace with path to Slicer on your device  # on Mac it might be \"/Applications/Slicer.app/Contents/MacOS/Slicer\"; on Windows it might be something like \"C:\\\"Slicer 5.6.1\"\\Slicer.exe\"\n",
    "#################################\n",
    "print(f\"Using segmentation at {seg_path}\")\n",
    "mip_volume_property_path = os.path.join(root_dir, \"MIP_VolumeProperty.vp\")\n",
    "LSA_PA_mask_path = os.path.join(data_dir, f\"{ID}_final_LSA_PA_mask.nii.gz\")\n",
    "LSA_ROI_dict_save_path = os.path.join(data_dir, f\"{ID}_LSA_ROI_location.json\")"
   ]
  },
  {
   "cell_type": "markdown",
   "metadata": {},
   "source": [
    "### 1. Postprocess LSA PA mask and get ROI location (automatic)"
   ]
  },
  {
   "cell_type": "markdown",
   "metadata": {},
   "source": [
    "Smooth the LSA perfusion area (PA) mask -- this is recommended if the mask was originally defined on a lower resolution template and coregistered to the high-resolution upsampled TOF image. Smoothing can remove stair artefacts in the mask. We utilised the joint smoothing method from Slicer due to its superior performance. The command below will launch Slicer, save smoothed mask to the `LSA_PA_mask_path` specified above, and close Slicer automatically."
   ]
  },
  {
   "cell_type": "code",
   "execution_count": null,
   "metadata": {},
   "outputs": [],
   "source": [
    "# Tip: if {slicer_path} cannot be found, try to replace it with the full path of Slicer here\n",
    "!{slicer_path} --no-splash --python-script smooth_LSA_PA_mask.py -mask {original_LSA_PA_mask_path} -volume {TOF_path} -output {LSA_PA_mask_path}"
   ]
  },
  {
   "cell_type": "markdown",
   "metadata": {},
   "source": [
    "Locate two LSA ROIs from the smoothed mask and save the ROI location to a json file. If detecting more than two islands (may occur due to artefact from smoothing), keep the two largest ones."
   ]
  },
  {
   "cell_type": "code",
   "execution_count": null,
   "metadata": {},
   "outputs": [],
   "source": [
    "LSA_ROI_dict = get_ROI_location_from_mask(LSA_PA_mask_path, original_LSA_PA_mask_path)\n",
    "\n",
    "with open(LSA_ROI_dict_save_path, 'w') as json_file:\n",
    "    json.dump(LSA_ROI_dict, json_file, indent=4)"
   ]
  },
  {
   "cell_type": "markdown",
   "metadata": {},
   "source": [
    "### 2. Select side and crop ROI (automatic)"
   ]
  },
  {
   "cell_type": "code",
   "execution_count": null,
   "metadata": {},
   "outputs": [],
   "source": [
    "side = \"Left\"  #\"Left\" or \"Right\"\n",
    "save_dir = os.path.join(data_dir, side)\n",
    "LSA_ROI_dict = json.load(open(LSA_ROI_dict_save_path, \"r\"))\n",
    "cropped_TOF_path, cropped_seg_path, cropped_mask_path = crop_TOF_and_seg(ID, \n",
    "                                                                    side, \n",
    "                                                                    save_dir, \n",
    "                                                                    TOF_path, \n",
    "                                                                    seg_path,\n",
    "                                                                    LSA_ROI_dict=LSA_ROI_dict, \n",
    "                                                                    LSA_PA_mask_path=LSA_PA_mask_path,\n",
    "                                                                    remove_top_surface_islands=False)"
   ]
  },
  {
   "cell_type": "markdown",
   "metadata": {},
   "source": [
    "### 3. Manual correction and keep LSAs (manual)\n",
    "\n",
    "- Launch Slicer. Load the cropped TOF image, `labelled_seg.nii.gz` and `helper_endpoints.json` into Slicer. \n",
    "\n",
    "- Go to `Segment Editor` module and correct the segmentation of the LSAs. Remove all non-LSA islands.\n",
    "\n",
    "- Save corrected segmentation to default filename in the same folder, `labelled_seg.nii.gz.nii.seg.nrrd`."
   ]
  },
  {
   "cell_type": "markdown",
   "metadata": {},
   "source": [
    "### 4. Postprocessing and endpoint detection (automatic)\n",
    "Run the code below to postprocess the segmentation for LSAs. It will create a new folder named `Postprocessed_LSA_seg`, in which there will be the postprocessed segmentation mask with the LSA branches originating from different stems labelled separately, as well as json files storing the detected endpoints for each cluster of branches. "
   ]
  },
  {
   "cell_type": "code",
   "execution_count": null,
   "metadata": {},
   "outputs": [],
   "source": [
    "corrected_nrrd_path = os.path.join(save_dir, \"labelled_seg.nii.gz.nii.seg.nrrd\")\n",
    "postprocessed_save_dir = os.path.join(save_dir, \"Postprocessed_Separate_LSAs\")\n",
    "postprocessed_LSA_seg_filename = \"postprocessed_LSA_seg.nii.gz\"\n",
    "\n",
    "# Remove previous results if they exist\n",
    "if os.path.exists(postprocessed_save_dir):\n",
    "    shutil.rmtree(postprocessed_save_dir)\n",
    "\n",
    "postprocessed_LSA_seg_path = postprocess_LSA_seg(corrected_nrrd_path, ref_img_path=cropped_seg_path, \n",
    "                                                save_dir=postprocessed_save_dir, \n",
    "                                                out_seg_name=postprocessed_LSA_seg_filename, \n",
    "                                                ROI_mask_path=cropped_mask_path)"
   ]
  },
  {
   "cell_type": "markdown",
   "metadata": {},
   "source": [
    "Check if the endpoints and segments look correct. If modifying the endpoints, save the corrected endpoint lists to the same json files."
   ]
  },
  {
   "cell_type": "markdown",
   "metadata": {},
   "source": [
    "### 5. Centerline extraction and construct LSA trees (automatic)\n",
    "Run the code below to automatically launch Slicer, extract the centrelines of the LSA segmentation, and save them to a new `Results` folder. If the results look right, simply close the window or stop this cell.\n",
    "\n",
    "P.S.  This step may run for a few minutes depending on your machine. If you are re-running this step and already has a `Results` folder, this will over-write the result files!"
   ]
  },
  {
   "cell_type": "code",
   "execution_count": null,
   "metadata": {},
   "outputs": [],
   "source": [
    "results_dir = os.path.join(save_dir, \"Results\")\n",
    "if os.path.exists(results_dir):\n",
    "    shutil.rmtree(results_dir)\n",
    "\n",
    "!{slicer_path} --no-splash --python-script extract_centerline_in_slicer.py -load_dir {postprocessed_save_dir} -seg_filename {postprocessed_LSA_seg_filename} -TOF_path {cropped_TOF_path} -results_dir {results_dir} -mip_volume_property {mip_volume_property_path}"
   ]
  },
  {
   "cell_type": "markdown",
   "metadata": {},
   "source": [
    "### 6. Compute LSA metrics"
   ]
  },
  {
   "cell_type": "code",
   "execution_count": null,
   "metadata": {},
   "outputs": [],
   "source": [
    "metrics = ['length', 'tortuosity', 'mean_curvature', 'max_curvature']\n",
    "summary_results, full_results = get_all_LSA_metrics(results_dir, metrics)\n",
    "\n",
    "df = pd.DataFrame([summary_results]).T\n",
    "df.columns = ['Value']\n",
    "display(df)"
   ]
  }
 ],
 "metadata": {
  "kernelspec": {
   "display_name": "LUMEN-env",
   "language": "python",
   "name": "python3"
  },
  "language_info": {
   "codemirror_mode": {
    "name": "ipython",
    "version": 3
   },
   "file_extension": ".py",
   "mimetype": "text/x-python",
   "name": "python",
   "nbconvert_exporter": "python",
   "pygments_lexer": "ipython3",
   "version": "3.12.2"
  }
 },
 "nbformat": 4,
 "nbformat_minor": 2
}
