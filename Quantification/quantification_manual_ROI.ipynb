{
 "cells": [
  {
   "cell_type": "code",
   "execution_count": null,
   "metadata": {},
   "outputs": [],
   "source": [
    "import os\n",
    "import sys\n",
    "import json\n",
    "import shutil\n",
    "import pandas as pd\n",
    "import nibabel as nib\n",
    "from quantification_functions import crop_TOF_and_seg, get_LSA_with_MCA, postprocess_LSA_seg, get_all_LSA_metrics"
   ]
  },
  {
   "cell_type": "markdown",
   "metadata": {},
   "source": [
    "## II. LSA Quantification"
   ]
  },
  {
   "cell_type": "markdown",
   "metadata": {},
   "source": [
    "### 1. Define LSA ROI (manual in Slicer) \n",
    "Save the index location of the selected LSA ROI to `LSA_ROI_location.json`."
   ]
  },
  {
   "cell_type": "markdown",
   "metadata": {},
   "source": [
    "Run step 2-6 for each side of the brain."
   ]
  },
  {
   "cell_type": "markdown",
   "metadata": {},
   "source": [
    "### 2. Crop segmentation and label islands"
   ]
  },
  {
   "cell_type": "code",
   "execution_count": null,
   "metadata": {},
   "outputs": [],
   "source": [
    "############# TODO: change input paths #############\n",
    "ID = \"001\"      # ID number\n",
    "side = \"Right\"  # \"Left\" or \"Right\"\n",
    "root_dir = \"/path/to/LUMEN/Quantification\"\n",
    "data_dir = os.path.join(\"/path/to/data/folder\", ID) \n",
    "TOF_path = os.path.join(data_dir, f\"{ID}_upsampled_TOF.nii.gz\") # ensure that this is the isotropically sampled TOF\n",
    "seg_path = os.path.join(data_dir, f\"{ID}_seg.nii.gz\")           # segmentation mask from DS6\n",
    "#################################\n",
    "LSA_ROI_dict_path = os.path.join(root_dir, \"LSA_ROI_location.json\")\n",
    "mip_volume_property_path = os.path.join(root_dir, \"MIP_VolumeProperty.vp\")\n",
    "LSA_ROI_dict = json.load(open(LSA_ROI_dict_path, \"r\"))\n",
    "save_dir = os.path.join(data_dir, side)"
   ]
  },
  {
   "cell_type": "code",
   "execution_count": null,
   "metadata": {},
   "outputs": [],
   "source": [
    "cropped_TOF_path, cropped_seg_path = crop_TOF_and_seg(ID, side, save_dir, TOF_path, seg_path, LSA_ROI_dict, auto_remove_distant_islands=True) # If this step takes too long or the wrong islands are removed, set `auto_remove_distant_islands=False`."
   ]
  },
  {
   "cell_type": "markdown",
   "metadata": {},
   "source": [
    "### 3. Manual correction and keep LSAs\n",
    "#### 3.1 Manual correction\n",
    "- Launch Slicer. Load the cropped TOF image, `labelled_seg.nii.gz` and `helper_endpoints.json` into Slicer. \n",
    "\n",
    "- Go to `Segment Editor` module and correct the segmentation of the LSAs. Note that **you only need to check the segmentation of the LSAs and the part of the main artery that they are connected to**. You do not need to manually remove all non-LSA islands, as in the next step only the largest island will be retained.\n",
    "\n",
    "- Tip: Clicking on the endpoints in 3D view can take you to those locations directly in the slice views.\n",
    "\n",
    "- Save corrected segmentation to default filename in the same folder, `labelled_seg.nii.gz.nii.seg.nrrd`."
   ]
  },
  {
   "cell_type": "markdown",
   "metadata": {},
   "source": [
    "#### 3.2 Keep LSA Segmentation  \n",
    "Run the code below to create a segmentation file containing only the LSAs and MCA, `LSA_MCA_seg.nii.gz`."
   ]
  },
  {
   "cell_type": "code",
   "execution_count": null,
   "metadata": {},
   "outputs": [],
   "source": [
    "corrected_nrrd_path = os.path.join(save_dir, \"labelled_seg.nii.gz.nii.seg.nrrd\")\n",
    "LSA_MCA_seg_path = get_LSA_with_MCA(corrected_nrrd_path, cropped_seg_path, save_dir)"
   ]
  },
  {
   "cell_type": "markdown",
   "metadata": {},
   "source": [
    "Load `LSA_MCA_seg.nii.gz` into Slicer, and cut off the MCA. Save the segmentation to default path, `LSA_MCA_seg.nii.gz.nii.seg.nrrd`."
   ]
  },
  {
   "cell_type": "markdown",
   "metadata": {},
   "source": [
    "### 4. Postprocessing and endpoint detection  \n",
    "Run the code below to postprocess the segmentation for LSAs. It will create a new folder named `Postprocessed_LSA_seg`, in which there will be the postprocessed segmentation mask with the LSA branches originating from different stems labelled separately, as well as json files storing the detected endpoints for each cluster of branches. You may load these files into Slicer again to check if the detected endpoints and their corresponding segmentation are correct. If modifying the endpoints, save them to the same json files. If modifying the segmentation, save it to the default filename (`postprocessed_LSA_seg.nii.gz.nii.seg.nrrd`)."
   ]
  },
  {
   "cell_type": "code",
   "execution_count": null,
   "metadata": {},
   "outputs": [],
   "source": [
    "LSA_nrrd_path = os.path.join(save_dir, \"LSA_MCA_seg.nii.gz.nii.seg.nrrd\")\n",
    "postprocessed_save_dir = os.path.join(save_dir, \"Postprocessed_LSA_seg\")\n",
    "postprocessed_LSA_seg_filename = \"postprocessed_LSA_seg.nii.gz\"\n",
    "\n",
    "# Remove previous results if they exist\n",
    "if os.path.exists(postprocessed_save_dir):\n",
    "    shutil.rmtree(postprocessed_save_dir)\n",
    "\n",
    "postprocessed_LSA_seg_path = postprocess_LSA_seg(LSA_nrrd_path, ref_img_path=cropped_seg_path, \n",
    "                                                save_dir=postprocessed_save_dir, \n",
    "                                                out_seg_name=postprocessed_LSA_seg_filename)"
   ]
  },
  {
   "cell_type": "markdown",
   "metadata": {},
   "source": [
    "### 5. Centreline extraction and construct LSA trees\n",
    "Run the code below to automatically launch Slicer, extract the centrelines of the LSA segmentation, and save them to a new `Results` folder. If the results look right, simply close the window or stop this cell.\n",
    "P.S.  This step may run for a few minutes. If you are re-running this step and already has a `Results` folder, this will over-write the result files!"
   ]
  },
  {
   "cell_type": "code",
   "execution_count": null,
   "metadata": {},
   "outputs": [],
   "source": [
    "results_dir = os.path.join(save_dir, \"Results\")\n",
    "if os.path.exists(results_dir):\n",
    "    shutil.rmtree(results_dir)\n",
    "\n",
    "# Run extract centreline from Slicer\n",
    "# TODO: replace /path/to/slicer/on/your/computer with your own path to Slicer\n",
    "# on Mac it might be \"/Applications/Slicer.app/Contents/MacOS/Slicer\"; on Windows it might be something like \"C:\\\"Slicer 5.6.1\"\\Slicer.exe\"\n",
    "!/path/to/slicer/on/your/computer --no-splash --python-script extract_centerline_in_slicer.py -load_dir {postprocessed_save_dir} -seg_filename {postprocessed_LSA_seg_filename} -TOF_path {cropped_TOF_path} -results_dir {results_dir} -mip_volume_property {mip_volume_property_path}"
   ]
  },
  {
   "cell_type": "markdown",
   "metadata": {},
   "source": [
    "### 6. Compute LSA metrics  \n",
    "Run the code below to compute morphological metrics of the LSAs."
   ]
  },
  {
   "cell_type": "code",
   "execution_count": null,
   "metadata": {},
   "outputs": [],
   "source": [
    "metrics = ['length', 'tortuosity', 'mean_curvature', 'max_curvature']\n",
    "summary_results, full_results = get_all_LSA_metrics(results_dir, metrics) # full_results contains all the metrics for each vessel segment and branch\n",
    "\n",
    "df = pd.DataFrame([summary_results]).T\n",
    "df.columns = ['Value']\n",
    "display(df)"
   ]
  }
 ],
 "metadata": {
  "kernelspec": {
   "display_name": "LUMEN-env",
   "language": "python",
   "name": "python3"
  },
  "language_info": {
   "codemirror_mode": {
    "name": "ipython",
    "version": 3
   },
   "file_extension": ".py",
   "mimetype": "text/x-python",
   "name": "python",
   "nbconvert_exporter": "python",
   "pygments_lexer": "ipython3",
   "version": "3.12.2"
  }
 },
 "nbformat": 4,
 "nbformat_minor": 2
}
